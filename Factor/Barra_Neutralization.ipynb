{
 "cells": [
  {
   "cell_type": "code",
   "execution_count": 1,
   "metadata": {},
   "outputs": [],
   "source": [
    "import pandas as pd\n",
    "import numpy as np\n",
    "import statsmodels.api as sm\n",
    "from tqdm import tqdm\n",
    "import pickle\n",
    "import os\n",
    "import warnings\n",
    "import ray\n",
    "import time\n",
    "warnings.filterwarnings('ignore')\n",
    "\n",
    "barra_path = \"../data/data_barra\"\n",
    "factor_path = \"../data/factors/upshadow\"\n",
    "output_folder = factor_path + \"/neutralized\"\n",
    "if not os.path.exists(output_folder):\n",
    "    os.makedirs(output_folder)\n",
    "\n"
   ]
  },
  {
   "cell_type": "code",
   "execution_count": 2,
   "metadata": {},
   "outputs": [],
   "source": [
    "@ray.remote\n",
    "class NeutralizationProcessor:\n",
    "    def __init__(self, barra_path, factor_path, barra_col, output_folder, mode):\n",
    "        self.barra_path = barra_path            # path of barra data\n",
    "        self.factor_path = factor_path          # path of factor data\n",
    "        self.output_folder = output_folder      # output folder\n",
    "        self.mode = mode                        # mode of neutralization\n",
    "        self.barra_col = barra_col              # name of barra column\n",
    "\n",
    "    def neutralize(self, factor_df, factor_col, barra_col, mode):\n",
    "        \"\"\"\n",
    "        factor_df: pandas dataframe of factor data\n",
    "        factor_col: name of factor column\n",
    "        barra_col: name of barra column\n",
    "        \"\"\"\n",
    "\n",
    "        ans = pd.DataFrame()\n",
    "        for col in factor_col:\n",
    "            \"\"\"\n",
    "            clip extreme values to avoid extreme values in neutralization\n",
    "            the extreme values are defined as 3 standard deviations away from the mean\n",
    "            \"\"\"\n",
    "            edge_up = factor_df[col].mean() + 3 * factor_df[col].std()\n",
    "            edge_down = factor_df[col].mean() - 3 * factor_df[col].std()\n",
    "            factor_df[col] = factor_df[col].clip(edge_down, edge_up)\n",
    "\n",
    "            \"\"\"\n",
    "            normalize factor data\n",
    "            mode 1: min-max normalization\n",
    "            mode 2: standardization\n",
    "            mode 3: log normalization\n",
    "            \"\"\"\n",
    "            if mode == 1:\n",
    "                factor_df[col] = (factor_df[col] - factor_df[col].min()) / (factor_df[col].max() - factor_df[col].min())\n",
    "            elif mode == 2:\n",
    "                factor_df[col] = (factor_df[col] - factor_df[col].mean()) / factor_df[col].std()\n",
    "            elif mode == 3:\n",
    "                factor_df[col] = factor_df[col] / 10**np.ceil(np.log10(factor_df[col].abs().max()))\n",
    "\n",
    "            # return residuals as the neutralized factor\n",
    "            results = sm.OLS(factor_df[col], factor_df[barra_col]).fit()\n",
    "            ans[col] = results.resid\n",
    "        return ans\n",
    "    \n",
    "    def process_file(self, file):\n",
    "        \"\"\"Process a single file\"\"\"\n",
    "        \n",
    "        factor_file = sorted(os.listdir(self.factor_path))\n",
    "        if file not in factor_file:\n",
    "            return\n",
    "\n",
    "        date = file[:-4]     # date form is \"YYYY-MM-DD.csv\"\n",
    "        factor_df = pd.read_csv(f'{self.factor_path}/{file}', index_col=0, header=0)\n",
    "        barra_df = pd.read_csv(f'{self.barra_path}/{file}', index_col=0, header=0)\n",
    "\n",
    "        # make sure the barra data and factor data have the same stock codes\n",
    "        codes_inter = barra_df.index.intersection(factor_df.index)\n",
    "\n",
    "        barra_df = barra_df.loc[codes_inter, :]\n",
    "\n",
    "        final = pd.concat([factor_df, barra_df], axis=1)\n",
    "        final.replace([np.inf, -np.inf], np.nan, inplace=True)\n",
    "        final.fillna(0, inplace=True)\n",
    "\n",
    "        factor_col = factor_df.columns.tolist()\n",
    "        data = self.neutralize(final, factor_col, self.barra_col, self.mode)\n",
    "        data.to_csv(f'{self.output_folder}/{file}')\n",
    "\n",
    "    def process_data(self):\n",
    "        barra_file = sorted(os.listdir(self.barra_path))\n",
    "\n",
    "        # Parallelize using ray\n",
    "        results = [self.process_file(file) for file in barra_file]\n"
   ]
  },
  {
   "cell_type": "code",
   "execution_count": 3,
   "metadata": {},
   "outputs": [
    {
     "name": "stderr",
     "output_type": "stream",
     "text": [
      "2024-12-27 14:03:20,857\tINFO worker.py:1821 -- Started a local Ray instance.\n"
     ]
    },
    {
     "name": "stdout",
     "output_type": "stream",
     "text": [
      "Time taken:  1.585111141204834\n"
     ]
    }
   ],
   "source": [
    "\n",
    "# Usage\n",
    "mode = 3\n",
    "barra_col = ['size', 'beta']\n",
    "ray.shutdown()\n",
    "ray.init(num_cpus=4, num_gpus=0)\n",
    "\n",
    "process = NeutralizationProcessor.remote(barra_path, factor_path, barra_col, output_folder, mode)\n",
    "s = time.time()\n",
    "barrl_files = sorted(os.listdir(barra_path))\n",
    "results = []\n",
    "for f in barrl_files:\n",
    "    results.append(process.process_file.remote(f))\n",
    "    # process.process_file.remote(f)\n",
    "\n",
    "ray.get(results)\n",
    "e = time.time()\n",
    "print(\"Time taken: \", e-s)\n",
    "\n",
    "ray.shutdown()\n"
   ]
  },
  {
   "cell_type": "code",
   "execution_count": 41,
   "metadata": {},
   "outputs": [
    {
     "name": "stdout",
     "output_type": "stream",
     "text": [
      "Time taken:  57.488332748413086\n"
     ]
    }
   ],
   "source": [
    "\n",
    "# Usage\n",
    "mode = 3\n",
    "barra_col = ['size', 'beta']\n",
    "\n",
    "process = NeutralizationProcessor(barra_path, factor_path, barra_col, output_folder, mode)\n",
    "s = time.time()\n",
    "process.process_data()\n",
    "e = time.time()\n",
    "print(\"Time taken: \", e-s)\n",
    "\n",
    "ray.shutdown()\n"
   ]
  }
 ],
 "metadata": {
  "kernelspec": {
   "display_name": "Python 3",
   "language": "python",
   "name": "python3"
  },
  "language_info": {
   "codemirror_mode": {
    "name": "ipython",
    "version": 3
   },
   "file_extension": ".py",
   "mimetype": "text/x-python",
   "name": "python",
   "nbconvert_exporter": "python",
   "pygments_lexer": "ipython3",
   "version": "3.12.3"
  }
 },
 "nbformat": 4,
 "nbformat_minor": 2
}
